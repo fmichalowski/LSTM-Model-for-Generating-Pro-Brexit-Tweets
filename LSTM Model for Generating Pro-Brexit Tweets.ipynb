{
 "cells": [
  {
   "cell_type": "markdown",
   "id": "f08a8a56-9f47-4ce4-8fef-733e4b47acc7",
   "metadata": {},
   "source": [
    "## LSTM Model for Generating Pro-Brexit Tweets\n",
    "#### Franciszek Michałowski"
   ]
  },
  {
   "cell_type": "markdown",
   "id": "b98f9425-6b4a-456c-b5dc-1b042bede4aa",
   "metadata": {},
   "source": [
    "Dataset:\n",
    "https://www.kaggle.com/datasets/visalakshiiyer/twitter-data-brexit/data?select=TweetDataset_ProBrexit_Jan-Mar2022.csv"
   ]
  },
  {
   "cell_type": "markdown",
   "id": "9f570557-7f7d-4a0a-a0c7-75a24ee38dde",
   "metadata": {},
   "source": [
    "The goal of the project is to create a recurrent neural network (LSTM) that will generate tweets supporting Brexit based on a dataset of pro-Brexit tweets from January to March 2022. A word-level LSTM model will be used for this purpose.\n",
    "\n",
    "Due to the broader availability of materials on building LSTM recurrent neural networks in Python, it was decided to work in this language (Python 3.9)."
   ]
  },
  {
   "cell_type": "markdown",
   "id": "8b1663dc-6f65-4bd7-b9c0-0ab7fc620a4b",
   "metadata": {},
   "source": [
    "#### Data Loading"
   ]
  },
  {
   "cell_type": "markdown",
   "id": "0b77f582-6127-4de8-a255-ca45d409ea40",
   "metadata": {},
   "source": [
    "We begin the work by loading the libraries. The required modules are: pandas, numpy, os, matplotlib, nltk, scikit-learn, and bson."
   ]
  },
  {
   "cell_type": "code",
   "execution_count": 1,
   "id": "c593b43f-941f-4eca-a2cf-6550fc96aaeb",
   "metadata": {},
   "outputs": [],
   "source": [
    "import pandas as pd\n",
    "import os\n",
    "import numpy as np\n",
    "import matplotlib.pyplot as plt\n",
    "import re\n",
    "import random\n",
    "\n",
    "\n",
    "import tensorflow as tf\n",
    "from tensorflow.keras.preprocessing.sequence import pad_sequences\n",
    "from tensorflow.keras.layers import Embedding, LSTM, Dense, Bidirectional, Dropout\n",
    "from tensorflow.keras.preprocessing.text import Tokenizer\n",
    "from tensorflow.keras.models import Sequential\n",
    "from tensorflow.keras.optimizers import Adam\n",
    "from collections import Counter\n",
    "from nltk.util import ngrams\n",
    "from sklearn.model_selection import train_test_split\n",
    "from tensorflow.keras.models import load_model"
   ]
  },
  {
   "cell_type": "markdown",
   "id": "4b714a2b-6a72-409d-b25a-babdca303e55",
   "metadata": {},
   "source": [
    "The dataset we are using comes from Kaggle and contains tweets related to Brexit from the period between January and March 2022. This data includes various information, such as tweet content, publication dates, and user metadata.\n",
    "\n",
    "The dataset consists of tweets that have been classified as supporting Brexit, giving us the opportunity to analyze specific narratives used by Brexit supporters. This data will serve as the basis for training an LSTM model, which will generate new tweets based on it."
   ]
  },
  {
   "cell_type": "code",
   "execution_count": 2,
   "id": "b818c2d8-7ce4-46d7-940b-ac2c58a6c7ae",
   "metadata": {},
   "outputs": [
    {
     "data": {
      "text/html": [
       "<div>\n",
       "<style scoped>\n",
       "    .dataframe tbody tr th:only-of-type {\n",
       "        vertical-align: middle;\n",
       "    }\n",
       "\n",
       "    .dataframe tbody tr th {\n",
       "        vertical-align: top;\n",
       "    }\n",
       "\n",
       "    .dataframe thead th {\n",
       "        text-align: right;\n",
       "    }\n",
       "</style>\n",
       "<table border=\"1\" class=\"dataframe\">\n",
       "  <thead>\n",
       "    <tr style=\"text-align: right;\">\n",
       "      <th></th>\n",
       "      <th>Unnamed: 0</th>\n",
       "      <th>Date</th>\n",
       "      <th>Headline</th>\n",
       "      <th>URL</th>\n",
       "      <th>Opening Text</th>\n",
       "      <th>Hit Sentence</th>\n",
       "      <th>Source</th>\n",
       "      <th>Influencer</th>\n",
       "      <th>Country</th>\n",
       "      <th>Subregion</th>\n",
       "      <th>...</th>\n",
       "      <th>Twitter Screen Name</th>\n",
       "      <th>User Profile Url</th>\n",
       "      <th>Twitter Bio</th>\n",
       "      <th>Twitter Followers</th>\n",
       "      <th>Twitter Following</th>\n",
       "      <th>Alternate Date Format</th>\n",
       "      <th>Time</th>\n",
       "      <th>State</th>\n",
       "      <th>City</th>\n",
       "      <th>Document Tags</th>\n",
       "    </tr>\n",
       "  </thead>\n",
       "  <tbody>\n",
       "    <tr>\n",
       "      <th>0</th>\n",
       "      <td>0</td>\n",
       "      <td>15-Jan-2022 11:58PM</td>\n",
       "      <td>NaN</td>\n",
       "      <td>https://twitter.com/dianemcgregor8/statuses/14...</td>\n",
       "      <td>NaN</td>\n",
       "      <td>RT @re11ddy: QT @sandieshoes: Do this if you v...</td>\n",
       "      <td>Twitter</td>\n",
       "      <td>@dianemcgregor8</td>\n",
       "      <td>Cameroon</td>\n",
       "      <td>NaN</td>\n",
       "      <td>...</td>\n",
       "      <td>Diane M McGregor</td>\n",
       "      <td>https://twitter.com/dianemcgregor8</td>\n",
       "      <td>Veggie burger! Lover of all Animals and Nature...</td>\n",
       "      <td>122.0</td>\n",
       "      <td>185.0</td>\n",
       "      <td>Jan 15, 2022</td>\n",
       "      <td>11:58 PM</td>\n",
       "      <td>North</td>\n",
       "      <td>NaN</td>\n",
       "      <td>NaN</td>\n",
       "    </tr>\n",
       "    <tr>\n",
       "      <th>1</th>\n",
       "      <td>1</td>\n",
       "      <td>15-Jan-2022 11:57PM</td>\n",
       "      <td>NaN</td>\n",
       "      <td>http://twitter.com/DeniseMembery/statuses/1482...</td>\n",
       "      <td>NaN</td>\n",
       "      <td>RT @RickSacrop: Michael Fabricant is absolutel...</td>\n",
       "      <td>Twitter</td>\n",
       "      <td>@DeniseMembery</td>\n",
       "      <td>United Kingdom</td>\n",
       "      <td>NaN</td>\n",
       "      <td>...</td>\n",
       "      <td>Denise M.</td>\n",
       "      <td>http://www.twitter.com/DeniseMembery</td>\n",
       "      <td>🇬🇧✡️ Proud to be British. 🇬🇧   Animal lover, m...</td>\n",
       "      <td>5721.0</td>\n",
       "      <td>6291.0</td>\n",
       "      <td>Jan 15, 2022</td>\n",
       "      <td>11:57 PM</td>\n",
       "      <td>England</td>\n",
       "      <td>NaN</td>\n",
       "      <td>NaN</td>\n",
       "    </tr>\n",
       "    <tr>\n",
       "      <th>2</th>\n",
       "      <td>2</td>\n",
       "      <td>15-Jan-2022 11:56PM</td>\n",
       "      <td>NaN</td>\n",
       "      <td>https://twitter.com/007Stirling/statuses/14825...</td>\n",
       "      <td>NaN</td>\n",
       "      <td>@StokieDrew2 I do find it rich; that Tory vote...</td>\n",
       "      <td>Twitter</td>\n",
       "      <td>@007stirling</td>\n",
       "      <td>United Kingdom</td>\n",
       "      <td>NaN</td>\n",
       "      <td>...</td>\n",
       "      <td>Finlay Stirling 🇬🇧☘️❤️🏴󠁧󠁢󠁳󠁣󠁴󠁿</td>\n",
       "      <td>https://twitter.com/007Stirling</td>\n",
       "      <td>BRITISH/IRISH/ULSTER-SCOTS PUL\\nRIGHT-WING. \\n...</td>\n",
       "      <td>7219.0</td>\n",
       "      <td>7433.0</td>\n",
       "      <td>Jan 15, 2022</td>\n",
       "      <td>11:56 PM</td>\n",
       "      <td>Northern Ireland</td>\n",
       "      <td>Belfast</td>\n",
       "      <td>NaN</td>\n",
       "    </tr>\n",
       "    <tr>\n",
       "      <th>3</th>\n",
       "      <td>3</td>\n",
       "      <td>15-Jan-2022 11:54PM</td>\n",
       "      <td>NaN</td>\n",
       "      <td>https://twitter.com/UKleadstheworld/statuses/1...</td>\n",
       "      <td>NaN</td>\n",
       "      <td>RT @denistmurray: Brexit Britain win as London...</td>\n",
       "      <td>Twitter</td>\n",
       "      <td>@ukleadstheworld</td>\n",
       "      <td>United Kingdom</td>\n",
       "      <td>NaN</td>\n",
       "      <td>...</td>\n",
       "      <td>BestofBritish</td>\n",
       "      <td>https://twitter.com/UKleadstheworld</td>\n",
       "      <td>GB News, Conservatives, Brexiteer, Block all ads.</td>\n",
       "      <td>700.0</td>\n",
       "      <td>1014.0</td>\n",
       "      <td>Jan 15, 2022</td>\n",
       "      <td>11:54 PM</td>\n",
       "      <td>NaN</td>\n",
       "      <td>NaN</td>\n",
       "      <td>NaN</td>\n",
       "    </tr>\n",
       "    <tr>\n",
       "      <th>4</th>\n",
       "      <td>4</td>\n",
       "      <td>15-Jan-2022 11:53PM</td>\n",
       "      <td>NaN</td>\n",
       "      <td>https://twitter.com/paul_beamish/statuses/1482...</td>\n",
       "      <td>NaN</td>\n",
       "      <td>@afneil If Johnson is taken down by The Tories...</td>\n",
       "      <td>Twitter</td>\n",
       "      <td>@paul_beamish</td>\n",
       "      <td>United Kingdom</td>\n",
       "      <td>NaN</td>\n",
       "      <td>...</td>\n",
       "      <td>Paul Beamish</td>\n",
       "      <td>https://twitter.com/paul_beamish</td>\n",
       "      <td>Brexiteer and Shipbuilder (Plater/Welder) livi...</td>\n",
       "      <td>200.0</td>\n",
       "      <td>822.0</td>\n",
       "      <td>Jan 15, 2022</td>\n",
       "      <td>11:53 PM</td>\n",
       "      <td>England</td>\n",
       "      <td>NaN</td>\n",
       "      <td>NaN</td>\n",
       "    </tr>\n",
       "    <tr>\n",
       "      <th>...</th>\n",
       "      <td>...</td>\n",
       "      <td>...</td>\n",
       "      <td>...</td>\n",
       "      <td>...</td>\n",
       "      <td>...</td>\n",
       "      <td>...</td>\n",
       "      <td>...</td>\n",
       "      <td>...</td>\n",
       "      <td>...</td>\n",
       "      <td>...</td>\n",
       "      <td>...</td>\n",
       "      <td>...</td>\n",
       "      <td>...</td>\n",
       "      <td>...</td>\n",
       "      <td>...</td>\n",
       "      <td>...</td>\n",
       "      <td>...</td>\n",
       "      <td>...</td>\n",
       "      <td>...</td>\n",
       "      <td>...</td>\n",
       "      <td>...</td>\n",
       "    </tr>\n",
       "    <tr>\n",
       "      <th>147626</th>\n",
       "      <td>16131</td>\n",
       "      <td>20-Mar-2022 12:01AM</td>\n",
       "      <td>NaN</td>\n",
       "      <td>http://twitter.com/Brexiteer1234/statuses/1505...</td>\n",
       "      <td>NaN</td>\n",
       "      <td>@JamesRobvincent @7nestingwrens He was also fi...</td>\n",
       "      <td>Twitter</td>\n",
       "      <td>@Brexiteer1234</td>\n",
       "      <td>United Kingdom</td>\n",
       "      <td>NaN</td>\n",
       "      <td>...</td>\n",
       "      <td>Wendy🇬🇧</td>\n",
       "      <td>http://www.twitter.com/Brexiteer1234</td>\n",
       "      <td>Conservative/Brexiteer. Boris is not perfect b...</td>\n",
       "      <td>813.0</td>\n",
       "      <td>892.0</td>\n",
       "      <td>Mar 20, 2022</td>\n",
       "      <td>12:01 AM</td>\n",
       "      <td>England</td>\n",
       "      <td>Lichfield</td>\n",
       "      <td>NaN</td>\n",
       "    </tr>\n",
       "    <tr>\n",
       "      <th>147627</th>\n",
       "      <td>16132</td>\n",
       "      <td>20-Mar-2022 12:00AM</td>\n",
       "      <td>NaN</td>\n",
       "      <td>https://twitter.com/Georgin40427121/statuses/1...</td>\n",
       "      <td>NaN</td>\n",
       "      <td>RT @sandieshoes: Boris is being heavily critic...</td>\n",
       "      <td>Twitter</td>\n",
       "      <td>@georgin40427121</td>\n",
       "      <td>United States</td>\n",
       "      <td>NaN</td>\n",
       "      <td>...</td>\n",
       "      <td>Georgina</td>\n",
       "      <td>https://twitter.com/Georgin40427121</td>\n",
       "      <td>http://Brexiteer.support Boris,Love our countr...</td>\n",
       "      <td>662.0</td>\n",
       "      <td>228.0</td>\n",
       "      <td>Mar 20, 2022</td>\n",
       "      <td>12:00 AM</td>\n",
       "      <td>Pennsylvania</td>\n",
       "      <td>Bristol</td>\n",
       "      <td>NaN</td>\n",
       "    </tr>\n",
       "    <tr>\n",
       "      <th>147628</th>\n",
       "      <td>16133</td>\n",
       "      <td>20-Mar-2022 12:00AM</td>\n",
       "      <td>NaN</td>\n",
       "      <td>https://twitter.com/sandieshoes/statuses/15053...</td>\n",
       "      <td>NaN</td>\n",
       "      <td>Ludicrous to suggest Boris is insulting Ukrain...</td>\n",
       "      <td>Twitter</td>\n",
       "      <td>@sandieshoes</td>\n",
       "      <td>Unknown</td>\n",
       "      <td>NaN</td>\n",
       "      <td>...</td>\n",
       "      <td>sandieshoes 🇬🇧🇺🇸</td>\n",
       "      <td>https://twitter.com/sandieshoes</td>\n",
       "      <td>Brexiteer🇬🇧Animal lover.  Where did that opini...</td>\n",
       "      <td>23594.0</td>\n",
       "      <td>23015.0</td>\n",
       "      <td>Mar 20, 2022</td>\n",
       "      <td>12:00 AM</td>\n",
       "      <td>NaN</td>\n",
       "      <td>NaN</td>\n",
       "      <td>NaN</td>\n",
       "    </tr>\n",
       "    <tr>\n",
       "      <th>147629</th>\n",
       "      <td>16134</td>\n",
       "      <td>20-Mar-2022 12:00AM</td>\n",
       "      <td>NaN</td>\n",
       "      <td>http://twitter.com/Sunpoches/statuses/15053333...</td>\n",
       "      <td>NaN</td>\n",
       "      <td>RT @DannyInvictus: @timfarron @ThomasEvansAdur...</td>\n",
       "      <td>Twitter</td>\n",
       "      <td>@Sunpoches</td>\n",
       "      <td>United Kingdom</td>\n",
       "      <td>NaN</td>\n",
       "      <td>...</td>\n",
       "      <td>Free at Last</td>\n",
       "      <td>http://www.twitter.com/Sunpoches</td>\n",
       "      <td>52% Pro Brexit: 48% Anti EU #ManagedNoDeal - W...</td>\n",
       "      <td>4589.0</td>\n",
       "      <td>5035.0</td>\n",
       "      <td>Mar 20, 2022</td>\n",
       "      <td>12:00 AM</td>\n",
       "      <td>England</td>\n",
       "      <td>London</td>\n",
       "      <td>NaN</td>\n",
       "    </tr>\n",
       "    <tr>\n",
       "      <th>147630</th>\n",
       "      <td>16135</td>\n",
       "      <td>20-Mar-2022 12:00AM</td>\n",
       "      <td>NaN</td>\n",
       "      <td>http://twitter.com/johnread123/statuses/150533...</td>\n",
       "      <td>NaN</td>\n",
       "      <td>QT @LindaBr07293431: Poor carowhine her bitter...</td>\n",
       "      <td>Twitter</td>\n",
       "      <td>@johnread123</td>\n",
       "      <td>Unknown</td>\n",
       "      <td>NaN</td>\n",
       "      <td>...</td>\n",
       "      <td>jack forever # Defund the BBC 🇬🇧</td>\n",
       "      <td>http://www.twitter.com/johnread123</td>\n",
       "      <td>West Ham supporter + Brexiteer. EU junta disli...</td>\n",
       "      <td>278.0</td>\n",
       "      <td>78.0</td>\n",
       "      <td>Mar 20, 2022</td>\n",
       "      <td>12:00 AM</td>\n",
       "      <td>NaN</td>\n",
       "      <td>NaN</td>\n",
       "      <td>NaN</td>\n",
       "    </tr>\n",
       "  </tbody>\n",
       "</table>\n",
       "<p>147631 rows × 38 columns</p>\n",
       "</div>"
      ],
      "text/plain": [
       "        Unnamed: 0                 Date  Headline  \\\n",
       "0                0  15-Jan-2022 11:58PM       NaN   \n",
       "1                1  15-Jan-2022 11:57PM       NaN   \n",
       "2                2  15-Jan-2022 11:56PM       NaN   \n",
       "3                3  15-Jan-2022 11:54PM       NaN   \n",
       "4                4  15-Jan-2022 11:53PM       NaN   \n",
       "...            ...                  ...       ...   \n",
       "147626       16131  20-Mar-2022 12:01AM       NaN   \n",
       "147627       16132  20-Mar-2022 12:00AM       NaN   \n",
       "147628       16133  20-Mar-2022 12:00AM       NaN   \n",
       "147629       16134  20-Mar-2022 12:00AM       NaN   \n",
       "147630       16135  20-Mar-2022 12:00AM       NaN   \n",
       "\n",
       "                                                      URL  Opening Text  \\\n",
       "0       https://twitter.com/dianemcgregor8/statuses/14...           NaN   \n",
       "1       http://twitter.com/DeniseMembery/statuses/1482...           NaN   \n",
       "2       https://twitter.com/007Stirling/statuses/14825...           NaN   \n",
       "3       https://twitter.com/UKleadstheworld/statuses/1...           NaN   \n",
       "4       https://twitter.com/paul_beamish/statuses/1482...           NaN   \n",
       "...                                                   ...           ...   \n",
       "147626  http://twitter.com/Brexiteer1234/statuses/1505...           NaN   \n",
       "147627  https://twitter.com/Georgin40427121/statuses/1...           NaN   \n",
       "147628  https://twitter.com/sandieshoes/statuses/15053...           NaN   \n",
       "147629  http://twitter.com/Sunpoches/statuses/15053333...           NaN   \n",
       "147630  http://twitter.com/johnread123/statuses/150533...           NaN   \n",
       "\n",
       "                                             Hit Sentence   Source  \\\n",
       "0       RT @re11ddy: QT @sandieshoes: Do this if you v...  Twitter   \n",
       "1       RT @RickSacrop: Michael Fabricant is absolutel...  Twitter   \n",
       "2       @StokieDrew2 I do find it rich; that Tory vote...  Twitter   \n",
       "3       RT @denistmurray: Brexit Britain win as London...  Twitter   \n",
       "4       @afneil If Johnson is taken down by The Tories...  Twitter   \n",
       "...                                                   ...      ...   \n",
       "147626  @JamesRobvincent @7nestingwrens He was also fi...  Twitter   \n",
       "147627  RT @sandieshoes: Boris is being heavily critic...  Twitter   \n",
       "147628  Ludicrous to suggest Boris is insulting Ukrain...  Twitter   \n",
       "147629  RT @DannyInvictus: @timfarron @ThomasEvansAdur...  Twitter   \n",
       "147630  QT @LindaBr07293431: Poor carowhine her bitter...  Twitter   \n",
       "\n",
       "              Influencer         Country  Subregion  ...  \\\n",
       "0        @dianemcgregor8        Cameroon        NaN  ...   \n",
       "1         @DeniseMembery  United Kingdom        NaN  ...   \n",
       "2           @007stirling  United Kingdom        NaN  ...   \n",
       "3       @ukleadstheworld  United Kingdom        NaN  ...   \n",
       "4          @paul_beamish  United Kingdom        NaN  ...   \n",
       "...                  ...             ...        ...  ...   \n",
       "147626    @Brexiteer1234  United Kingdom        NaN  ...   \n",
       "147627  @georgin40427121   United States        NaN  ...   \n",
       "147628      @sandieshoes         Unknown        NaN  ...   \n",
       "147629        @Sunpoches  United Kingdom        NaN  ...   \n",
       "147630      @johnread123         Unknown        NaN  ...   \n",
       "\n",
       "                     Twitter Screen Name  \\\n",
       "0                       Diane M McGregor   \n",
       "1                              Denise M.   \n",
       "2          Finlay Stirling 🇬🇧☘️❤️🏴󠁧󠁢󠁳󠁣󠁴󠁿   \n",
       "3                          BestofBritish   \n",
       "4                           Paul Beamish   \n",
       "...                                  ...   \n",
       "147626                           Wendy🇬🇧   \n",
       "147627                          Georgina   \n",
       "147628                  sandieshoes 🇬🇧🇺🇸   \n",
       "147629                      Free at Last   \n",
       "147630  jack forever # Defund the BBC 🇬🇧   \n",
       "\n",
       "                            User Profile Url  \\\n",
       "0         https://twitter.com/dianemcgregor8   \n",
       "1       http://www.twitter.com/DeniseMembery   \n",
       "2            https://twitter.com/007Stirling   \n",
       "3        https://twitter.com/UKleadstheworld   \n",
       "4           https://twitter.com/paul_beamish   \n",
       "...                                      ...   \n",
       "147626  http://www.twitter.com/Brexiteer1234   \n",
       "147627   https://twitter.com/Georgin40427121   \n",
       "147628       https://twitter.com/sandieshoes   \n",
       "147629      http://www.twitter.com/Sunpoches   \n",
       "147630    http://www.twitter.com/johnread123   \n",
       "\n",
       "                                              Twitter Bio  Twitter Followers  \\\n",
       "0       Veggie burger! Lover of all Animals and Nature...              122.0   \n",
       "1       🇬🇧✡️ Proud to be British. 🇬🇧   Animal lover, m...             5721.0   \n",
       "2       BRITISH/IRISH/ULSTER-SCOTS PUL\\nRIGHT-WING. \\n...             7219.0   \n",
       "3       GB News, Conservatives, Brexiteer, Block all ads.              700.0   \n",
       "4       Brexiteer and Shipbuilder (Plater/Welder) livi...              200.0   \n",
       "...                                                   ...                ...   \n",
       "147626  Conservative/Brexiteer. Boris is not perfect b...              813.0   \n",
       "147627  http://Brexiteer.support Boris,Love our countr...              662.0   \n",
       "147628  Brexiteer🇬🇧Animal lover.  Where did that opini...            23594.0   \n",
       "147629  52% Pro Brexit: 48% Anti EU #ManagedNoDeal - W...             4589.0   \n",
       "147630  West Ham supporter + Brexiteer. EU junta disli...              278.0   \n",
       "\n",
       "        Twitter Following  Alternate Date Format      Time             State  \\\n",
       "0                   185.0           Jan 15, 2022  11:58 PM             North   \n",
       "1                  6291.0           Jan 15, 2022  11:57 PM           England   \n",
       "2                  7433.0           Jan 15, 2022  11:56 PM  Northern Ireland   \n",
       "3                  1014.0           Jan 15, 2022  11:54 PM               NaN   \n",
       "4                   822.0           Jan 15, 2022  11:53 PM           England   \n",
       "...                   ...                    ...       ...               ...   \n",
       "147626              892.0           Mar 20, 2022  12:01 AM           England   \n",
       "147627              228.0           Mar 20, 2022  12:00 AM      Pennsylvania   \n",
       "147628            23015.0           Mar 20, 2022  12:00 AM               NaN   \n",
       "147629             5035.0           Mar 20, 2022  12:00 AM           England   \n",
       "147630               78.0           Mar 20, 2022  12:00 AM               NaN   \n",
       "\n",
       "             City  Document Tags  \n",
       "0             NaN            NaN  \n",
       "1             NaN            NaN  \n",
       "2         Belfast            NaN  \n",
       "3             NaN            NaN  \n",
       "4             NaN            NaN  \n",
       "...           ...            ...  \n",
       "147626  Lichfield            NaN  \n",
       "147627    Bristol            NaN  \n",
       "147628        NaN            NaN  \n",
       "147629     London            NaN  \n",
       "147630        NaN            NaN  \n",
       "\n",
       "[147631 rows x 38 columns]"
      ]
     },
     "execution_count": 2,
     "metadata": {},
     "output_type": "execute_result"
    }
   ],
   "source": [
    "brexit_tweets = pd.read_csv('TweetDataset_ProBrexit_Jan-Mar2022.csv')\n",
    "brexit_tweets"
   ]
  },
  {
   "cell_type": "markdown",
   "id": "b8c9ccb8-96c9-4bd1-8df6-eebcbc91b53d",
   "metadata": {},
   "source": [
    "### Data preparation\n",
    "\n",
    "The 'Hit Sentence' column contains the tweet content. We are particularly interested in this content, as it will be the direct source of training data for the model. To facilitate further work and improve readability, we will rename the column to 'tweet'."
   ]
  },
  {
   "cell_type": "code",
   "execution_count": 3,
   "id": "77ca9d75-1947-4a51-8811-1f5c12513e71",
   "metadata": {},
   "outputs": [
    {
     "data": {
      "text/plain": [
       "0         RT @re11ddy: QT @sandieshoes: Do this if you v...\n",
       "1         RT @RickSacrop: Michael Fabricant is absolutel...\n",
       "2         @StokieDrew2 I do find it rich; that Tory vote...\n",
       "3         RT @denistmurray: Brexit Britain win as London...\n",
       "4         @afneil If Johnson is taken down by The Tories...\n",
       "                                ...                        \n",
       "147626    @JamesRobvincent @7nestingwrens He was also fi...\n",
       "147627    RT @sandieshoes: Boris is being heavily critic...\n",
       "147628    Ludicrous to suggest Boris is insulting Ukrain...\n",
       "147629    RT @DannyInvictus: @timfarron @ThomasEvansAdur...\n",
       "147630    QT @LindaBr07293431: Poor carowhine her bitter...\n",
       "Name: tweet, Length: 147631, dtype: object"
      ]
     },
     "execution_count": 3,
     "metadata": {},
     "output_type": "execute_result"
    }
   ],
   "source": [
    "brexit_tweets2 = brexit_tweets.rename(columns={'Hit Sentence': 'tweet'})\n",
    "brexit_tweets2['tweet']"
   ]
  },
  {
   "cell_type": "markdown",
   "id": "fd2ce3f4-e31c-488f-831e-3158bcd32760",
   "metadata": {},
   "source": [
    "The database contains 147,631 tweets."
   ]
  },
  {
   "cell_type": "code",
   "execution_count": 4,
   "id": "1b51aa55-3a3e-40ec-aaa7-01a4813846b3",
   "metadata": {},
   "outputs": [
    {
     "name": "stdout",
     "output_type": "stream",
     "text": [
      "Number of tweets: 147631\n"
     ]
    }
   ],
   "source": [
    "print(\"Number of tweets:\", brexit_tweets2.shape[0])"
   ]
  },
  {
   "cell_type": "markdown",
   "id": "bdd2d6cc-4541-49c7-a168-af58db147988",
   "metadata": {},
   "source": [
    "At the beginning of some tweets, there is information indicating whether the tweet is a retweet (\"RT (...):\") or a quote of another tweet (\"QT (...):\"). The tweets also contain links. We will remove this content from the tweets. Additionally, we will replace special characters with words to enable tokenization and processing within the model.\n",
    "\n",
    "Removing this data will allow us to analyze only the actual content of the tweets."
   ]
  },
  {
   "cell_type": "code",
   "execution_count": 5,
   "id": "0040f7bf-f14e-4339-b395-7bb81ae76cd8",
   "metadata": {},
   "outputs": [],
   "source": [
    "import re\n",
    "\n",
    "def clean_text(text: str) -> str:\n",
    "    re_rt = r\"RT @\\w+:\"\n",
    "    re_qt = r\"QT @\\w+:\"\n",
    "    re_http = r\"http[^\\s]+\"\n",
    "\n",
    "    cleaned_text = re.sub(re_rt, \"\", text)\n",
    "    cleaned_text = re.sub(re_qt, \"\", cleaned_text)\n",
    "    cleaned_text = re.sub(re_http, \"\", cleaned_text)\n",
    "    cleaned_text = re.sub(r\"@([a-zA-Z0-9_]+)\\b\", \" account\", cleaned_text)\n",
    "    cleaned_text = cleaned_text.replace(\".\", \" fullstop\")\n",
    "    cleaned_text = cleaned_text.replace(\",\", \" comma\")\n",
    "    cleaned_text = cleaned_text.replace(\";\", \" semicolon\")\n",
    "    cleaned_text = cleaned_text.replace(\":\", \" colon\")\n",
    "    cleaned_text = cleaned_text.replace(\"!\", \" exclamationmark\")\n",
    "    cleaned_text = cleaned_text.replace('\"', \" quote\")\n",
    "    cleaned_text = cleaned_text.replace(\"?\", \" questionmark\")\n",
    "    cleaned_text = cleaned_text.replace(\"  \", \" \")\n",
    "    cleaned_text = cleaned_text.replace(\"#\", \" hashtag\")\n",
    "    cleaned_text = cleaned_text.lower() + \" endoftweet\"\n",
    "    \n",
    "    return cleaned_text\n",
    "\n",
    "\n",
    "def remove_tweets_with_repeated_account(tweet):\n",
    "    pattern = r'(account\\s+){3,}'\n",
    "    if re.search(pattern, tweet):\n",
    "        return False  \n",
    "    return True"
   ]
  },
  {
   "cell_type": "markdown",
   "id": "2e2a0919-dbd4-4768-a88a-1eec2132b5d7",
   "metadata": {},
   "source": [
    "### Function Operation\n",
    "Each tweet undergoes transformation. All characters are converted to lowercase for standardization. Special characters are replaced with words to enable their tokenization. At the end of each tweet, the word \"endoftweet\" is added, which will stop further word generation after the tweet is generated."
   ]
  },
  {
   "cell_type": "code",
   "execution_count": 6,
   "id": "4af10361-6f1f-49f7-b051-9c9e11aebcb8",
   "metadata": {},
   "outputs": [
    {
     "name": "stdout",
     "output_type": "stream",
     "text": [
      "RT @re11ddy: QT @sandieshoes: Do this if you value Brexit ; Tory MPs are back in their constituencies this weekend. Can you contact them as they contemplate if they should put a letter into the 1922. It would just take a few minutes. Their email details are easily found. Don’t lay down in front of the media. Please act. #BackBoris\n"
     ]
    }
   ],
   "source": [
    "tweet = brexit_tweets2['tweet'][0]\n",
    "print(tweet)"
   ]
  },
  {
   "cell_type": "code",
   "execution_count": 7,
   "id": "16b739cf-766f-4e4d-ade9-a4cfe00391e9",
   "metadata": {
    "scrolled": true
   },
   "outputs": [
    {
     "name": "stdout",
     "output_type": "stream",
     "text": [
      " do this if you value brexit semicolon tory mps are back in their constituencies this weekend fullstop can you contact them as they contemplate if they should put a letter into the 1922 fullstop it would just take a few minutes fullstop their email details are easily found fullstop don’t lay down in front of the media fullstop please act fullstop  hashtagbackboris endoftweet\n"
     ]
    }
   ],
   "source": [
    "clean_tweet = clean_text(tweet)\n",
    "print(clean_tweet)"
   ]
  },
  {
   "cell_type": "code",
   "execution_count": 8,
   "id": "a215d278-b2db-4e95-900a-32a56d292b6f",
   "metadata": {},
   "outputs": [
    {
     "data": {
      "text/plain": [
       "0          do this if you value brexit semicolon tory mp...\n",
       "1          michael fabricant is absolutely right fullsto...\n",
       "2          account i do find it rich semicolon that tory...\n",
       "3          brexit britain win as london named best city ...\n",
       "4          account if johnson is taken down by the torie...\n",
       "                                ...                        \n",
       "147617     let's be honest eu diplomat agrees that the u...\n",
       "147624     never a truer word spoken👍 semicolon p&o ferr...\n",
       "147626     account account he was also fighting against ...\n",
       "147628    ludicrous to suggest boris is insulting ukrain...\n",
       "147630     poor carowhine her bitter unhealthy obsession...\n",
       "Name: tweet, Length: 73768, dtype: object"
      ]
     },
     "execution_count": 8,
     "metadata": {},
     "output_type": "execute_result"
    }
   ],
   "source": [
    "brexit_tweets3 = brexit_tweets2\n",
    "brexit_tweets3['tweet'] = brexit_tweets3['tweet'].apply(lambda x: clean_text(x))\n",
    "brexit_tweets3 = brexit_tweets3[brexit_tweets3['tweet'].apply(remove_tweets_with_repeated_account)]\n",
    "\n",
    "brexit_tweets3 = brexit_tweets3.drop_duplicates(subset=['tweet'])\n",
    "brexit_tweets3['tweet']"
   ]
  },
  {
   "cell_type": "markdown",
   "id": "5b7664e5-1938-49e9-bf8b-e07122fa1929",
   "metadata": {},
   "source": [
    "### Bigram Analysis\n",
    "As part of the preliminary analysis of the dataset, bigrams were examined. It was checked whether the content of the bigrams indicates logical relationships within the dataset."
   ]
  },
  {
   "cell_type": "code",
   "execution_count": 9,
   "id": "952999fb",
   "metadata": {},
   "outputs": [
    {
     "data": {
      "text/plain": [
       "[(('fullstop', 'endoftweet'), 33526),\n",
       " (('the', 'eu'), 24084),\n",
       " (('fullstop', 'fullstop'), 16418),\n",
       " (('account', 'account'), 12717),\n",
       " (('of', 'the'), 11033),\n",
       " (('in', 'the'), 9992),\n",
       " (('the', 'uk'), 7632),\n",
       " (('fullstop', 'semicolon'), 7578),\n",
       " (('fullstop', 'the'), 6667),\n",
       " (('to', 'the'), 5990),\n",
       " (('questionmark', 'endoftweet'), 5102),\n",
       " (('eu', 'fullstop'), 4562),\n",
       " (('to', 'be'), 4379),\n",
       " (('comma', 'the'), 4135),\n",
       " (('exclamationmark', 'endoftweet'), 4005),\n",
       " (('on', 'the'), 3880),\n",
       " (('and', 'the'), 3798),\n",
       " (('for', 'the'), 3594),\n",
       " (('in', 'europe'), 3538),\n",
       " (('is', 'a'), 3428)]"
      ]
     },
     "execution_count": 9,
     "metadata": {},
     "output_type": "execute_result"
    }
   ],
   "source": [
    "def get_top_ngrams(corpus, n=2, top_k=10):\n",
    "    ngrams_list = [ngram for tweet in corpus for ngram in ngrams(tweet.split(), n)]\n",
    "    ngrams_counts = Counter(ngrams_list)\n",
    "    return ngrams_counts.most_common(top_k)\n",
    "\n",
    "top_bigrams = get_top_ngrams(brexit_tweets3['tweet'].tolist(), n=2, top_k=20)\n",
    "top_bigrams"
   ]
  },
  {
   "cell_type": "markdown",
   "id": "9fa59bad-c06d-4307-aa95-7158dd00077e",
   "metadata": {},
   "source": [
    "The generated most frequent bigrams are logical and show potential for achieving good results. The number of unique words in the dataset was also examined."
   ]
  },
  {
   "cell_type": "code",
   "execution_count": 10,
   "id": "9a6bf0e1",
   "metadata": {},
   "outputs": [
    {
     "name": "stdout",
     "output_type": "stream",
     "text": [
      "The number of unique words in the dataset: 71540\n"
     ]
    }
   ],
   "source": [
    "unique_words = set(word for tweet in brexit_tweets3['tweet'] for word in tweet.split())\n",
    "print(f\"The number of unique words in the dataset: {len(unique_words)}\")"
   ]
  },
  {
   "cell_type": "markdown",
   "id": "e98d5131-3e6b-4e17-9f3b-4d5a8d8add95",
   "metadata": {},
   "source": [
    "### Reducing the Number of Unique Words\n",
    "104,000 words is definitely too much. The size of the word count is influenced by typos, unique usernames, hashtags, phrases in other languages, emojis, and the lack of spaces between words.\n",
    "\n",
    "We cannot simply remove unnecessary words from the tweets, as this would disrupt the context of the words' occurrence. To clean the dataset, we decided to remove tweets that contain at least one word outside the pool of the 4,000 most popular words."
   ]
  },
  {
   "cell_type": "code",
   "execution_count": 12,
   "id": "5cbaf011-63f9-45d3-b85f-739d69492a45",
   "metadata": {},
   "outputs": [
    {
     "data": {
      "text/plain": [
       "3          brexit britain win as london named best city ...\n",
       "7          account so what's important to me a few parti...\n",
       "9          i m backing boris fullstop don't let the left...\n",
       "11         under account colon brexit delivered ☑️ jobs ...\n",
       "46         if there was another referendum on britain’s ...\n",
       "                                ...                        \n",
       "147583     account i don't know the ukraine is in the eu...\n",
       "147591     account you literally backed remaining in the...\n",
       "147600     account save your bs false outrage for the eu...\n",
       "147617     let's be honest eu diplomat agrees that the u...\n",
       "147628    ludicrous to suggest boris is insulting ukrain...\n",
       "Name: tweet, Length: 11563, dtype: object"
      ]
     },
     "execution_count": 12,
     "metadata": {},
     "output_type": "execute_result"
    }
   ],
   "source": [
    "# Word frequency\n",
    "all_words = ' '.join(brexit_tweets3['tweet']).lower()\n",
    "words = re.findall(r'\\w+|[^\\s\\w]+', all_words)\n",
    "word_freq = Counter(words)\n",
    "\n",
    "# 4k most popular words\n",
    "most_common_words = set([word for word, freq in word_freq.most_common(4000)])\n",
    "\n",
    "# Data filtering\n",
    "def is_valid_tweet(tweet):\n",
    "    words_in_tweet = set(re.findall(r'\\b\\w+\\b', tweet.lower()))\n",
    "    return words_in_tweet.issubset(most_common_words)\n",
    "\n",
    "filtered_tweets = brexit_tweets3[brexit_tweets3['tweet'].apply(is_valid_tweet)]\n",
    "\n",
    "filtered_tweets['tweet']\n"
   ]
  },
  {
   "cell_type": "markdown",
   "id": "5d2e013b-8f0b-437b-a4b5-fd9c570fc4ab",
   "metadata": {},
   "source": [
    "The dataset has been narrowed down to 11,563 tweets."
   ]
  },
  {
   "cell_type": "markdown",
   "id": "f4bdc2e4-0842-4ca5-96a7-f8ed3fc9c722",
   "metadata": {},
   "source": [
    "### Text Tokenization\n",
    "We perform text tokenization by converting words into numerical indices so that they can be processed by the model."
   ]
  },
  {
   "cell_type": "code",
   "execution_count": 13,
   "id": "5938a77b-72d2-42bb-bae4-b2082e28b6c3",
   "metadata": {},
   "outputs": [
    {
     "name": "stdout",
     "output_type": "stream",
     "text": [
      "Total number of words:  5746\n",
      "Word: ID\n",
      "------------\n",
      "<oov>:  1\n",
      "Strong:  5\n",
      "And:  2\n",
      "Consumption:  4\n"
     ]
    }
   ],
   "source": [
    "tokenizer = Tokenizer(oov_token='<oov>') \n",
    "tokenizer.fit_on_texts(filtered_tweets['tweet'])\n",
    "total_words = len(tokenizer.word_index) + 1\n",
    "\n",
    "print(\"Total number of words: \", total_words)\n",
    "print(\"Word: ID\")\n",
    "print(\"------------\")\n",
    "print(\"<oov>: \", tokenizer.word_index['<oov>'])\n",
    "print(\"Strong: \", tokenizer.word_index[\"account\"])\n",
    "print(\"And: \", tokenizer.word_index[\"fullstop\"])\n",
    "print(\"Consumption: \", tokenizer.word_index['endoftweet'])"
   ]
  },
  {
   "cell_type": "markdown",
   "id": "19a21dfc-aaa3-4edd-a57b-8c17232a784a",
   "metadata": {},
   "source": [
    "We prepare word sequences from the tweets that will serve as input for the model."
   ]
  },
  {
   "cell_type": "code",
   "execution_count": 14,
   "id": "24dee0fe-7e82-4767-9198-88e65f91bea4",
   "metadata": {},
   "outputs": [
    {
     "name": "stdout",
     "output_type": "stream",
     "text": [
      "Total input sequences:  269321\n"
     ]
    }
   ],
   "source": [
    "input_sequences = []\n",
    "for line in filtered_tweets['tweet']:\n",
    "    token_list = tokenizer.texts_to_sequences([line])[0]\n",
    "    \n",
    "    for i in range(1, len(token_list)):\n",
    "        n_gram_sequence = token_list[:i+1]\n",
    "        input_sequences.append(n_gram_sequence)\n",
    "\n",
    "print(\"Total input sequences: \", len(input_sequences))"
   ]
  },
  {
   "cell_type": "markdown",
   "id": "3dbfe856-b7f3-4c56-ae06-346748f5ac18",
   "metadata": {},
   "source": [
    "To avoid issues with excessively long sequences, we will remove sequences longer than 50 elements."
   ]
  },
  {
   "cell_type": "code",
   "execution_count": 15,
   "id": "87a1c353-83bc-48cc-b032-d374e0c22941",
   "metadata": {},
   "outputs": [
    {
     "data": {
      "image/png": "[encoded data removed]",
      "text/plain": [
       "<Figure size 640x480 with 1 Axes>"
      ]
     },
     "metadata": {},
     "output_type": "display_data"
    }
   ],
   "source": [
    "sequence_lengths = [len(x) for x in input_sequences]\n",
    "\n",
    "sequence_lengths\n",
    "\n",
    "plt.hist(sequence_lengths, bins='auto', edgecolor='black')\n",
    "plt.title('The distribution of sequence lengths')\n",
    "plt.xlabel('Sequence length')\n",
    "plt.ylabel('Number')\n",
    "plt.grid(True)\n",
    "plt.show()"
   ]
  },
  {
   "cell_type": "code",
   "execution_count": 16,
   "id": "6febb2f2-9f95-4f6b-83c6-34ee984ff6a3",
   "metadata": {},
   "outputs": [
    {
     "name": "stdout",
     "output_type": "stream",
     "text": [
      "Total input sequences:  261556\n"
     ]
    }
   ],
   "source": [
    "input_sequences = []\n",
    "for line in filtered_tweets['tweet']:\n",
    "    token_list = tokenizer.texts_to_sequences([line])[0]\n",
    "    \n",
    "    for i in range(1, len(token_list)):\n",
    "        n_gram_sequence = token_list[:i+1]\n",
    "        if len(n_gram_sequence) <= 50:\n",
    "            input_sequences.append(n_gram_sequence)\n",
    "\n",
    "print(\"Total input sequences: \", len(input_sequences))"
   ]
  },
  {
   "cell_type": "code",
   "execution_count": 17,
   "id": "bc7c6e57-91f7-4ccb-a52e-f6f0291a7e49",
   "metadata": {},
   "outputs": [
    {
     "data": {
      "image/png": "[encoded data removed]",
      "text/plain": [
       "<Figure size 640x480 with 1 Axes>"
      ]
     },
     "metadata": {},
     "output_type": "display_data"
    }
   ],
   "source": [
    "sequence_lengths = [len(x) for x in input_sequences]\n",
    "\n",
    "sequence_lengths\n",
    "\n",
    "plt.hist(sequence_lengths, bins='auto', edgecolor='black')\n",
    "plt.title('The distribution of sequence lengths')\n",
    "plt.xlabel('Sequence length')\n",
    "plt.ylabel('Number')\n",
    "plt.grid(True)\n",
    "plt.show()"
   ]
  },
  {
   "cell_type": "code",
   "execution_count": 18,
   "id": "a7162c62-0065-4547-8e72-23ab9d8fc3d0",
   "metadata": {},
   "outputs": [
    {
     "data": {
      "text/plain": [
       "array([  0,   0,   0,   0,   0,   0,   0,   0,   0,   0,   0,   0,   0,\n",
       "         0,   0,   0,   0,   0,   0,   0,   0,   0,   0,   0,   0,   0,\n",
       "         0,   0,   0,   0,   0,   0,   0,   0,   0,   0,   0,   0,   0,\n",
       "         0,   0,   0,   0,   0,   0,   0,   0,   0,  10, 112])"
      ]
     },
     "execution_count": 18,
     "metadata": {},
     "output_type": "execute_result"
    }
   ],
   "source": [
    "# We standardize the length of the sequences to 50 elements.\n",
    "max_sequence_len = max([len(x) for x in input_sequences])\n",
    "input_sequences = np.array(pad_sequences(input_sequences, maxlen=max_sequence_len, padding='pre'))\n",
    "input_sequences[0]"
   ]
  },
  {
   "cell_type": "code",
   "execution_count": 19,
   "id": "216f8ca9-f472-40fe-9c91-989b0168d77e",
   "metadata": {},
   "outputs": [],
   "source": [
    "# Splitting the sequence into a set of words and the target\n",
    "xs, labels = input_sequences[:,:-1],input_sequences[:,-1]\n",
    "ys = tf.keras.utils.to_categorical(labels, num_classes=total_words)"
   ]
  },
  {
   "cell_type": "code",
   "execution_count": 20,
   "id": "ecd8f20a-da46-42a2-9ade-66e28bcae8a5",
   "metadata": {},
   "outputs": [
    {
     "name": "stdout",
     "output_type": "stream",
     "text": [
      "[   0    0    0    0    0    0    0    0    0    0    0    0    0    0\n",
      "    0    0    0    0    0    0    0    0    0    0    0    0    0    0\n",
      "    0    0    0    0    0    0    0    0    0    0    0    0    0    0\n",
      "    0   10  112  399   34  842 3483]\n",
      "217\n",
      "0.0\n"
     ]
    }
   ],
   "source": [
    "print(xs[5])\n",
    "print(labels[5])\n",
    "print(ys[5][14])"
   ]
  },
  {
   "cell_type": "markdown",
   "id": "2bb6097a-0644-4852-831f-db5336af199e",
   "metadata": {},
   "source": [
    "Through trial and error, an appropriate architecture was selected for the discussed problem. It was decided to use a bidirectional LSTM layer at the beginning of the model, followed by a Dropout layer to enhance regularization capabilities. The choice of the bidirectional LSTM layer was the result of analyzing other projects related to building word-level LSTM models. The model then included two unidirectional LSTM layers and an additional Dropout layer."
   ]
  },
  {
   "cell_type": "code",
   "execution_count": 21,
   "id": "e2b6c80e-3783-4c7d-a377-a1043c1b0766",
   "metadata": {},
   "outputs": [
    {
     "name": "stderr",
     "output_type": "stream",
     "text": [
      "C:\\Users\\franc\\AppData\\Roaming\\Python\\Python311\\site-packages\\keras\\src\\layers\\core\\embedding.py:90: UserWarning: Argument `input_length` is deprecated. Just remove it.\n",
      "  warnings.warn(\n"
     ]
    },
    {
     "name": "stdout",
     "output_type": "stream",
     "text": [
      "Epoch 1/10\n",
      "\u001b[1m4087/4087\u001b[0m \u001b[32m━━━━━━━━━━━━━━━━━━━━\u001b[0m\u001b[37m\u001b[0m \u001b[1m0s\u001b[0m 375ms/step - accuracy: 0.0877 - loss: 6.0728\n",
      "Model saved as my_model_epoch_1.keras at the end of epoch 1\n",
      "\u001b[1m4087/4087\u001b[0m \u001b[32m━━━━━━━━━━━━━━━━━━━━\u001b[0m\u001b[37m\u001b[0m \u001b[1m1547s\u001b[0m 375ms/step - accuracy: 0.0877 - loss: 6.0727\n",
      "Epoch 2/10\n",
      "\u001b[1m4087/4087\u001b[0m \u001b[32m━━━━━━━━━━━━━━━━━━━━\u001b[0m\u001b[37m\u001b[0m \u001b[1m0s\u001b[0m 369ms/step - accuracy: 0.1726 - loss: 5.1215\n",
      "Model saved as my_model_epoch_2.keras at the end of epoch 2\n",
      "\u001b[1m4087/4087\u001b[0m \u001b[32m━━━━━━━━━━━━━━━━━━━━\u001b[0m\u001b[37m\u001b[0m \u001b[1m1508s\u001b[0m 369ms/step - accuracy: 0.1726 - loss: 5.1215\n",
      "Epoch 3/10\n",
      "\u001b[1m4087/4087\u001b[0m \u001b[32m━━━━━━━━━━━━━━━━━━━━\u001b[0m\u001b[37m\u001b[0m \u001b[1m0s\u001b[0m 375ms/step - accuracy: 0.2001 - loss: 4.7365\n",
      "Model saved as my_model_epoch_3.keras at the end of epoch 3\n",
      "\u001b[1m4087/4087\u001b[0m \u001b[32m━━━━━━━━━━━━━━━━━━━━\u001b[0m\u001b[37m\u001b[0m \u001b[1m1531s\u001b[0m 375ms/step - accuracy: 0.2001 - loss: 4.7365\n",
      "Epoch 4/10\n",
      "\u001b[1m4087/4087\u001b[0m \u001b[32m━━━━━━━━━━━━━━━━━━━━\u001b[0m\u001b[37m\u001b[0m \u001b[1m0s\u001b[0m 503ms/step - accuracy: 0.2219 - loss: 4.4541\n",
      "Model saved as my_model_epoch_4.keras at the end of epoch 4\n",
      "\u001b[1m4087/4087\u001b[0m \u001b[32m━━━━━━━━━━━━━━━━━━━━\u001b[0m\u001b[37m\u001b[0m \u001b[1m2056s\u001b[0m 503ms/step - accuracy: 0.2219 - loss: 4.4541\n",
      "Epoch 5/10\n",
      "\u001b[1m4087/4087\u001b[0m \u001b[32m━━━━━━━━━━━━━━━━━━━━\u001b[0m\u001b[37m\u001b[0m \u001b[1m0s\u001b[0m 1s/step - accuracy: 0.2406 - loss: 4.2342\n",
      "Model saved as my_model_epoch_5.keras at the end of epoch 5\n",
      "\u001b[1m4087/4087\u001b[0m \u001b[32m━━━━━━━━━━━━━━━━━━━━\u001b[0m\u001b[37m\u001b[0m \u001b[1m5325s\u001b[0m 1s/step - accuracy: 0.2406 - loss: 4.2342\n",
      "Epoch 6/10\n",
      "\u001b[1m4087/4087\u001b[0m \u001b[32m━━━━━━━━━━━━━━━━━━━━\u001b[0m\u001b[37m\u001b[0m \u001b[1m0s\u001b[0m 425ms/step - accuracy: 0.2600 - loss: 4.0377\n",
      "Model saved as my_model_epoch_6.keras at the end of epoch 6\n",
      "\u001b[1m4087/4087\u001b[0m \u001b[32m━━━━━━━━━━━━━━━━━━━━\u001b[0m\u001b[37m\u001b[0m \u001b[1m1736s\u001b[0m 425ms/step - accuracy: 0.2600 - loss: 4.0377\n",
      "Epoch 7/10\n",
      "\u001b[1m4087/4087\u001b[0m \u001b[32m━━━━━━━━━━━━━━━━━━━━\u001b[0m\u001b[37m\u001b[0m \u001b[1m0s\u001b[0m 437ms/step - accuracy: 0.2766 - loss: 3.8635\n",
      "Model saved as my_model_epoch_7.keras at the end of epoch 7\n",
      "\u001b[1m4087/4087\u001b[0m \u001b[32m━━━━━━━━━━━━━━━━━━━━\u001b[0m\u001b[37m\u001b[0m \u001b[1m1788s\u001b[0m 438ms/step - accuracy: 0.2766 - loss: 3.8635\n",
      "Epoch 8/10\n",
      "\u001b[1m4087/4087\u001b[0m \u001b[32m━━━━━━━━━━━━━━━━━━━━\u001b[0m\u001b[37m\u001b[0m \u001b[1m0s\u001b[0m 442ms/step - accuracy: 0.2908 - loss: 3.7234\n",
      "Model saved as my_model_epoch_8.keras at the end of epoch 8\n",
      "\u001b[1m4087/4087\u001b[0m \u001b[32m━━━━━━━━━━━━━━━━━━━━\u001b[0m\u001b[37m\u001b[0m \u001b[1m1806s\u001b[0m 442ms/step - accuracy: 0.2908 - loss: 3.7235\n",
      "Epoch 9/10\n",
      "\u001b[1m4087/4087\u001b[0m \u001b[32m━━━━━━━━━━━━━━━━━━━━\u001b[0m\u001b[37m\u001b[0m \u001b[1m0s\u001b[0m 431ms/step - accuracy: 0.3041 - loss: 3.5998\n",
      "Model saved as my_model_epoch_9.keras at the end of epoch 9\n",
      "\u001b[1m4087/4087\u001b[0m \u001b[32m━━━━━━━━━━━━━━━━━━━━\u001b[0m\u001b[37m\u001b[0m \u001b[1m1763s\u001b[0m 431ms/step - accuracy: 0.3041 - loss: 3.5998\n",
      "Epoch 10/10\n",
      "\u001b[1m4087/4087\u001b[0m \u001b[32m━━━━━━━━━━━━━━━━━━━━\u001b[0m\u001b[37m\u001b[0m \u001b[1m0s\u001b[0m 475ms/step - accuracy: 0.3156 - loss: 3.5016\n",
      "Model saved as my_model_epoch_10.keras at the end of epoch 10\n",
      "\u001b[1m4087/4087\u001b[0m \u001b[32m━━━━━━━━━━━━━━━━━━━━\u001b[0m\u001b[37m\u001b[0m \u001b[1m1940s\u001b[0m 475ms/step - accuracy: 0.3156 - loss: 3.5016\n"
     ]
    }
   ],
   "source": [
    "from tensorflow.keras.callbacks import Callback\n",
    "\n",
    "class ModelCheckpointPerEpoch(Callback):\n",
    "    def on_epoch_end(self, epoch, logs=None):\n",
    "        # Save the model with a dynamic filename based on the epoch number\n",
    "        filename = f'my_model_epoch_{epoch+1}.keras'\n",
    "        self.model.save(filename)\n",
    "        print(f'\\nModel saved as {filename} at the end of epoch {epoch+1}')\n",
    "\n",
    "# Define your model\n",
    "model = Sequential()\n",
    "model.add(Embedding(input_dim=total_words, output_dim=256, input_length=max_sequence_len-1))\n",
    "model.add(Bidirectional(LSTM(256, return_sequences=True)))\n",
    "model.add(Dropout(0.3)) \n",
    "model.add(LSTM(256, return_sequences=True))\n",
    "model.add(Dropout(0.2))  \n",
    "model.add(LSTM(256))\n",
    "model.add(Dense(total_words, activation='softmax'))\n",
    "\n",
    "adam = Adam(learning_rate=0.001)\n",
    "model.compile(loss='categorical_crossentropy', optimizer=adam, metrics=['accuracy'])\n",
    "\n",
    "# Add the custom callback\n",
    "checkpoint_callback = ModelCheckpointPerEpoch()\n",
    "\n",
    "# Fit the model and save after each epoch\n",
    "history = model.fit(xs, ys, epochs=10, batch_size=64, verbose=1, callbacks=[checkpoint_callback])\n"
   ]
  },
  {
   "cell_type": "code",
   "execution_count": null,
   "id": "e7318343-8da9-4e94-aa91-1015a9efcd4d",
   "metadata": {},
   "outputs": [],
   "source": [
    "model = load_model('my_model.keras')\n",
    "adam = Adam(learning_rate=0.001)\n",
    "model.compile(loss='categorical_crossentropy', optimizer=adam, metrics=['accuracy'])\n",
    "history = model.fit(xs, ys, epochs=1, batch_size=16, verbose=1)\n",
    "model.save('my_model.keras')"
   ]
  },
  {
   "cell_type": "code",
   "execution_count": null,
   "id": "e2b25126-1ffa-4a77-b9cc-73b194e4fd6d",
   "metadata": {},
   "outputs": [],
   "source": [
    "model = load_model('my_model.keras')\n",
    "adam = Adam(learning_rate=0.001)\n",
    "model.compile(loss='categorical_crossentropy', optimizer=adam, metrics=['accuracy'])\n",
    "#history = model.fit(xs, ys, epochs=1, batch_size=64, verbose=1)\n",
    "#model.save('my_model.keras')"
   ]
  },
  {
   "cell_type": "markdown",
   "id": "1c33e293-e19e-4895-b337-2078bdafeb1c",
   "metadata": {},
   "source": [
    "Since the goal of our model is not to build an effective classifier but a text-generating model, we did not create a validation or test set. The effectiveness of the built models and their ability to generalize were assessed empirically."
   ]
  },
  {
   "cell_type": "markdown",
   "id": "40aa9f98-c81e-4b17-891f-bb2eff76a038",
   "metadata": {},
   "source": [
    "### Processing the Generated Text"
   ]
  },
  {
   "cell_type": "markdown",
   "id": "baea91b9-8ce8-4e6a-9604-c97c7bc49be4",
   "metadata": {},
   "source": [
    "In the next part, several functions were prepared to transform the generated word sequences into a tweet structure. The generate_text function allows for the generation of sequences of elements, which are then processed into sentence structures.\n",
    "\n",
    "To enable the generation of diverse tweets based on a starting word, the selection of a word from the model's output layer was modified. Instead of choosing the word with the highest probability of occurrence, 20 words with the highest probabilities are selected, and a word is randomly drawn from these based on their corresponding weights. Without this mechanism, the same sequence of words would always be generated for a given starting word.\n",
    "\n",
    "Each invocation of the function will allow for the generation of a sequence of elements that will serve as the basis for the next tweet."
   ]
  },
  {
   "cell_type": "code",
   "execution_count": 22,
   "id": "798f1206-722e-42d6-aaa7-cc2980ecb723",
   "metadata": {},
   "outputs": [
    {
     "data": {
      "text/plain": [
       "['boris',\n",
       " 'goes',\n",
       " 'fullstop',\n",
       " 'fullstop',\n",
       " 'undemocratic',\n",
       " 'endoftweet',\n",
       " 'colon',\n",
       " 'tories',\n",
       " 'should',\n",
       " 'pledge',\n",
       " 'a',\n",
       " 'referendum',\n",
       " 'fullstop',\n",
       " 'endoftweet',\n",
       " 'england',\n",
       " 'has',\n",
       " 'been',\n",
       " 'in',\n",
       " 'the',\n",
       " 'eu',\n",
       " 'endoftweet',\n",
       " 'fullstop',\n",
       " 'it',\n",
       " 'is',\n",
       " 'the',\n",
       " 'eu',\n",
       " 'into',\n",
       " 'a',\n",
       " 'second',\n",
       " 'brexit',\n",
       " 'referendum',\n",
       " 'website',\n",
       " 'fullstop',\n",
       " 'endoftweet',\n",
       " 'like',\n",
       " 'me',\n",
       " 'slowly',\n",
       " 'fullstop',\n",
       " 'endoftweet',\n",
       " 'meps',\n",
       " 'voted',\n",
       " 'for',\n",
       " 'to',\n",
       " 'say',\n",
       " 'that',\n",
       " 'wasn’t',\n",
       " 'strong',\n",
       " 'enough',\n",
       " 'fullstop',\n",
       " 'endoftweet',\n",
       " 'meps']"
      ]
     },
     "execution_count": 22,
     "metadata": {},
     "output_type": "execute_result"
    }
   ],
   "source": [
    "def generate_text(seed_text, next_words):\n",
    "    word_sequence = [seed_text]\n",
    "\n",
    "    for _ in range(next_words):\n",
    "        token_list = tokenizer.texts_to_sequences([seed_text])[0]\n",
    "        token_list = pad_sequences([token_list], maxlen=max_sequence_len-1, padding='pre')\n",
    "        \n",
    "        predicted_probs = model.predict(token_list, verbose=0)\n",
    "        \n",
    "        top_indices = np.argsort(predicted_probs[0])[-20:]  # Indices of top 20 highest probabilities\n",
    "        top_probabilities = predicted_probs[0][top_indices]\n",
    "        top_probabilities = top_probabilities / np.sum(top_probabilities)\n",
    "        predicted_index = np.random.choice(top_indices, p=top_probabilities)\n",
    "        \n",
    "        output_word = \"\"\n",
    "        for word, index in tokenizer.word_index.items():\n",
    "            if index == predicted_index:\n",
    "                output_word = word\n",
    "                break\n",
    "        \n",
    "        word_sequence.append(output_word)\n",
    "        seed_text += \" \" + output_word\n",
    "    \n",
    "    return word_sequence\n",
    "\n",
    "#Uruchomienie funkcji\n",
    "word_sequence = generate_text(seed_text = \"boris\", next_words = 50)\n",
    "word_sequence"
   ]
  },
  {
   "cell_type": "markdown",
   "id": "3ef08d0a-6953-42ee-b7be-f24abd23527f",
   "metadata": {},
   "source": [
    "The next function will format the generated sequence elements—recoding words into special characters and adjusting the capitalization if the word is the name of a country, institution, or the name of a well-known British politician."
   ]
  },
  {
   "cell_type": "code",
   "execution_count": 23,
   "id": "0d9a54df-dc13-4adc-87d4-b2abb06229f4",
   "metadata": {},
   "outputs": [
    {
     "data": {
      "text/plain": [
       "['Boris', 'goes', '.', '.', 'undemocratic']"
      ]
     },
     "execution_count": 23,
     "metadata": {},
     "output_type": "execute_result"
    }
   ],
   "source": [
    "def format_word_sequence(word_sequence):\n",
    "    word_sequence_formatted = []\n",
    "    \n",
    "    for word in word_sequence:\n",
    "        if word == 'endoftweet':\n",
    "            break\n",
    "        \n",
    "        word = word.replace(\"fullstop\", \".\")\n",
    "        word = word.replace(\"comma\", \",\")\n",
    "        word = word.replace(\"semicolon\", \";\")\n",
    "        word = word.replace(\"colon\", \":\")\n",
    "        word = word.replace(\"exclamationmark\", \"!\")\n",
    "        word = word.replace(\"questionmark\", \"?\")\n",
    "        word = word.replace(\"quote\", '\"')\n",
    "        word = word.replace(\"hashtag\", \"#\")\n",
    "        word = word.replace(\"account\", \"@account\")\n",
    "        \n",
    "        capitalize_words = ['brexit', 'britain', 'ukraine', 'british', 'tory', 'tories', 'labour', 'russia', 'poland', 'germany', 'ireland', 'boris', 'johnson','keir','starmer', 'sadiq', 'khan']\n",
    "        if word.lower() in capitalize_words:\n",
    "            word = word.capitalize()\n",
    "        \n",
    "        uppercase_words = ['uk', 'mp', 'eu', 'pm', 'nato']\n",
    "        if word.lower() in uppercase_words:\n",
    "            word = word.upper()\n",
    "        \n",
    "        if word.lower() == 'mps':\n",
    "            word = 'MPs'\n",
    "        \n",
    "        word_sequence_formatted.append(word)\n",
    "        \n",
    "        if word == 'endoftweet':\n",
    "            break\n",
    "    \n",
    "    return word_sequence_formatted\n",
    "\n",
    "word_sequence_formatted = format_word_sequence(word_sequence)\n",
    "word_sequence_formatted"
   ]
  },
  {
   "cell_type": "markdown",
   "id": "98eb8f09-681b-4001-9910-72f107098276",
   "metadata": {},
   "source": [
    "The next function will generate continuous text based on the sequences of words."
   ]
  },
  {
   "cell_type": "code",
   "execution_count": 24,
   "id": "3cda4a82-1b99-4fb7-baa3-d3a5801898e4",
   "metadata": {},
   "outputs": [
    {
     "data": {
      "text/plain": [
       "'Boris goes.. Undemocratic'"
      ]
     },
     "execution_count": 24,
     "metadata": {},
     "output_type": "execute_result"
    }
   ],
   "source": [
    "def generate_text_from_formatted(word_sequence_formatted):\n",
    "    text = ''\n",
    "    \n",
    "    for i in range(len(word_sequence_formatted)):\n",
    "        if (i == 0) and (not word_sequence_formatted[i].isupper()):\n",
    "            word_sequence_formatted[i] = word_sequence_formatted[i].capitalize()\n",
    "        \n",
    "        if i != 0 and (word_sequence_formatted[i-1] in [\".\", \"?\", \"!\", \";\"]):\n",
    "            word_sequence_formatted[i] = word_sequence_formatted[i].capitalize()\n",
    "        \n",
    "        if i != 0 and (word_sequence_formatted[i] in [\".\", \"?\", \"!\", \",\", \":\"]):\n",
    "            text += word_sequence_formatted[i]\n",
    "        else:\n",
    "            text += ' ' + word_sequence_formatted[i]\n",
    "    \n",
    "    return text.strip()  # Strip leading and trailing whitespace\n",
    "\n",
    "generated_text = generate_text_from_formatted(word_sequence_formatted)\n",
    "generated_text"
   ]
  },
  {
   "cell_type": "markdown",
   "id": "b6a9e9f3-4cee-408c-b20c-5a41cc875c9f",
   "metadata": {},
   "source": [
    "The above example demonstrates that we have successfully built a model that generates incoherent sentences, which, however, maintain some sense. The constructed model is based on initiating words. For this reason, a function has been prepared that passes one of the 50 most popular words in the database as an initiating word to the model (with the probability based on the frequency of that word). This function will be one of the components of the final function."
   ]
  },
  {
   "cell_type": "code",
   "execution_count": 25,
   "id": "c72a7c7b-aa92-4275-91c6-65439fc597b4",
   "metadata": {},
   "outputs": [
    {
     "data": {
      "text/plain": [
       "[('account', 7741),\n",
       " ('semicolon', 274),\n",
       " ('the', 259),\n",
       " ('i', 119),\n",
       " ('brexit', 88),\n",
       " ('this', 65),\n",
       " ('if', 61),\n",
       " ('we', 61),\n",
       " ('eu', 57),\n",
       " ('boris', 55)]"
      ]
     },
     "execution_count": 25,
     "metadata": {},
     "output_type": "execute_result"
    }
   ],
   "source": [
    "first_words = filtered_tweets['tweet'].str.split().str[0]\n",
    "first_word_freq = Counter(first_words)\n",
    "most_common_first_words = first_word_freq.most_common()\n",
    "\n",
    "top_n = 10\n",
    "top_10_words = most_common_first_words[:top_n]\n",
    "\n",
    "total_freq = sum(freq for word, freq in top_10_words)\n",
    "\n",
    "words, frequencies = zip(*top_10_words)\n",
    "probabilities = [freq / total_freq for freq in frequencies]\n",
    "\n",
    "def get_random_word_based_on_distribution(words, probabilities):\n",
    "    return random.choices(words, weights=probabilities, k=1)[0]\n",
    "\n",
    "random_word = get_random_word_based_on_distribution(words, probabilities)\n",
    "top_10_words"
   ]
  },
  {
   "cell_type": "markdown",
   "id": "c4fe65d8-96be-4918-b8d1-319fd72e98c8",
   "metadata": {},
   "source": [
    "The final function, composed of the previous functions, is built below."
   ]
  },
  {
   "cell_type": "code",
   "execution_count": 26,
   "id": "88d8f282-e8d9-4f0d-bbb8-918769b3faea",
   "metadata": {},
   "outputs": [],
   "source": [
    "def tweet():\n",
    "    tweet = generate_text_from_formatted(format_word_sequence(generate_text(seed_text = get_random_word_based_on_distribution(words, probabilities), next_words = 50)))\n",
    "    return tweet"
   ]
  },
  {
   "cell_type": "markdown",
   "id": "04808b6f-6757-48b7-878f-98f5b8fb8af2",
   "metadata": {},
   "source": [
    "### Summary"
   ]
  },
  {
   "cell_type": "markdown",
   "id": "8ddc6d81-fd19-48f3-97a7-1306829e9fb2",
   "metadata": {},
   "source": [
    "It was checked how the generated tweets look."
   ]
  },
  {
   "cell_type": "code",
   "execution_count": 27,
   "id": "ad567be5-5a39-4738-875c-50c9cc9be884",
   "metadata": {},
   "outputs": [
    {
     "name": "stdout",
     "output_type": "stream",
     "text": [
      "@account you need to be the problem with the UK, i have just been able to offer their own food chamber\n",
      "\n",
      "@account @account the EU is funding putin's war machine.\n",
      "\n",
      "@account @account he is not very popular.... .and i voted leave here as an 80 seat majority\n",
      "\n",
      "@account Brexit is working for British workers, we are not in the EU. The EU is taking more sanctions since the rest of Ukraine Germany has been paying for the UK... .and it is why.\n",
      "\n",
      "@account we don't have a vote, we are not in the EU, we are still buying russian gas and funding putins war.\n",
      "\n",
      "@account i agree.\n",
      "\n",
      "@account he is a disgrace\n",
      "\n",
      "@account Brexit is working for British workers. Boris is a lot. The EU is leading in the EU. They are in fact that it doesn't matter that it was the right to choose.\n",
      "\n",
      "@account you would be in the EU, where would they vote?\n",
      "\n",
      "@account @account i would see him. The EU is funding the russian army as they don't like Germany, the un EU, NATO has never got a country.\n",
      "\n"
     ]
    }
   ],
   "source": [
    "for i in range(0,10):\n",
    "    print(tweet() + '\\n')"
   ]
  },
  {
   "cell_type": "markdown",
   "id": "85ae98cd-56b5-4ee2-97b1-281ae4ef7b13",
   "metadata": {},
   "source": [
    "The completed project demonstrates that it is difficult to apply LSTM networks for generating coherent text. The generated tweets have poor syntax and lack informational value. The project suggests that a better solution might be to use transformer architecture or an LLM for generating coherent content."
   ]
  }
 ],
 "metadata": {
  "kernelspec": {
   "display_name": "Python 3 (ipykernel)",
   "language": "python",
   "name": "python3"
  },
  "language_info": {
   "codemirror_mode": {
    "name": "ipython",
    "version": 3
   },
   "file_extension": ".py",
   "mimetype": "text/x-python",
   "name": "python",
   "nbconvert_exporter": "python",
   "pygments_lexer": "ipython3",
   "version": "3.11.7"
  }
 },
 "nbformat": 4,
 "nbformat_minor": 5
}
